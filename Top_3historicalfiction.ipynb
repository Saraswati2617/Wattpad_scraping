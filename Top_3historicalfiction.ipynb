{
 "cells": [
  {
   "cell_type": "code",
   "execution_count": 1,
   "id": "73164f9f-dc10-4e6d-ba34-3e93aeed18b8",
   "metadata": {},
   "outputs": [
    {
     "name": "stdin",
     "output_type": "stream",
     "text": [
      "⏳ Please log in manually in the browser, then press ENTER here to continue... \n"
     ]
    },
    {
     "name": "stdout",
     "output_type": "stream",
     "text": [
      "🔍 Scraping: https://www.wattpad.com/story/350539177-%F0%9D%90%8D%F0%9D%90%9A%F0%9D%90%B2%F0%9D%90%9A%F0%9D%90%A7%F0%9D%90%AD%F0%9D%90%9A%F0%9D%90%AB%F0%9D%90%9A-%7E-%F0%9D%90%93%F0%9D%90%A1%F0%9D%90%9E-%F0%9D%90%84%F0%9D%90%A9%F0%9D%90%A2%F0%9D%90%AD%F0%9D%90%A8%F0%9D%90%A6%F0%9D%90%9E-%F0%9D%90%8E%F0%9D%90%9F-%F0%9D%90%81%F0%9D%90%9E%F0%9D%90%9A%F0%9D%90%AE%F0%9D%90%AD%F0%9D%90%B2-%F0%9D%9F%8F%F0%9D%9F%96%2B\n",
      "🔍 Scraping: https://www.wattpad.com/story/270117777-khalifa\n",
      "🔍 Scraping: https://www.wattpad.com/story/384852019-baby-tyrant\n",
      "✅ Done! Data saved to 'Wattpad_HistoricalFiction_Stories.xlsx'\n"
     ]
    }
   ],
   "source": [
    "from selenium import webdriver\n",
    "from selenium.webdriver.common.by import By\n",
    "from selenium.webdriver.support.ui import WebDriverWait\n",
    "from selenium.webdriver.support import expected_conditions as EC\n",
    "import pandas as pd\n",
    "import time\n",
    "\n",
    "# Setup browser\n",
    "options = webdriver.ChromeOptions()\n",
    "options.add_experimental_option(\"detach\", True)\n",
    "driver = webdriver.Chrome(options=options)\n",
    "\n",
    "# Step 1: Manual login\n",
    "driver.get(\"https://www.wattpad.com/login\")\n",
    "input(\"⏳ Please log in manually in the browser, then press ENTER here to continue...\")\n",
    "\n",
    "# Step 2: Historical Fiction story URLs\n",
    "story_urls = [\n",
    "    \"https://www.wattpad.com/story/350539177-%F0%9D%90%8D%F0%9D%90%9A%F0%9D%90%B2%F0%9D%90%9A%F0%9D%90%A7%F0%9D%90%AD%F0%9D%90%9A%F0%9D%90%AB%F0%9D%90%9A-%7E-%F0%9D%90%93%F0%9D%90%A1%F0%9D%90%9E-%F0%9D%90%84%F0%9D%90%A9%F0%9D%90%A2%F0%9D%90%AD%F0%9D%90%A8%F0%9D%90%A6%F0%9D%90%9E-%F0%9D%90%8E%F0%9D%90%9F-%F0%9D%90%81%F0%9D%90%9E%F0%9D%90%9A%F0%9D%90%AE%F0%9D%90%AD%F0%9D%90%B2-%F0%9D%9F%8F%F0%9D%9F%96%2B\",\n",
    "    \"https://www.wattpad.com/story/270117777-khalifa\",\n",
    "    \"https://www.wattpad.com/story/384852019-baby-tyrant\"\n",
    "]\n",
    "\n",
    "# Step 3: Data collection\n",
    "story_data = []\n",
    "\n",
    "for url in story_urls:\n",
    "    driver.get(url)\n",
    "    print(f\"🔍 Scraping: {url}\")\n",
    "    time.sleep(3)\n",
    "\n",
    "    try:\n",
    "        WebDriverWait(driver, 10).until(EC.presence_of_element_located((By.CSS_SELECTOR, \"div.gF-N5\")))\n",
    "        title = driver.find_element(By.CSS_SELECTOR, \"div.gF-N5\").text\n",
    "\n",
    "        # Reads & Votes\n",
    "        stats = driver.find_elements(By.CSS_SELECTOR, \"span[data-testid='stats-value']\")\n",
    "        reads = stats[0].text if len(stats) > 0 else \"N/A\"\n",
    "        votes = stats[1].text if len(stats) > 1 else \"N/A\"\n",
    "\n",
    "        # Published dates\n",
    "        dates = driver.find_elements(By.CSS_SELECTOR, \"div.bSGSB\")\n",
    "        first_publish = dates[0].text if len(dates) > 0 else \"N/A\"\n",
    "        last_publish = dates[1].text if len(dates) > 1 else \"N/A\"\n",
    "\n",
    "        story_data.append({\n",
    "            \"Title\": title,\n",
    "            \"Genre\": \"Historical Fiction\",\n",
    "            \"Number of Reads\": reads,\n",
    "            \"Number of Votes\": votes,\n",
    "            \"First Published Date\": first_publish,\n",
    "            \"Last Published Date\": last_publish,\n",
    "            \"Story URL\": url\n",
    "        })\n",
    "\n",
    "    except Exception as e:\n",
    "        print(f\"❌ Error scraping {url}: {e}\")\n",
    "\n",
    "# Step 4: Save to Excel\n",
    "df = pd.DataFrame(story_data)\n",
    "df.to_excel(\"Wattpad_HistoricalFiction_Stories.xlsx\", index=False)\n",
    "print(\"✅ Done! Data saved to 'Wattpad_HistoricalFiction_Stories.xlsx'\")\n"
   ]
  },
  {
   "cell_type": "code",
   "execution_count": null,
   "id": "09b6a2da-e3a2-496c-b048-80d1f0f1a512",
   "metadata": {},
   "outputs": [],
   "source": []
  }
 ],
 "metadata": {
  "kernelspec": {
   "display_name": "Python 3 (ipykernel)",
   "language": "python",
   "name": "python3"
  },
  "language_info": {
   "codemirror_mode": {
    "name": "ipython",
    "version": 3
   },
   "file_extension": ".py",
   "mimetype": "text/x-python",
   "name": "python",
   "nbconvert_exporter": "python",
   "pygments_lexer": "ipython3",
   "version": "3.13.5"
  },
  "widgets": {
   "application/vnd.jupyter.widget-state+json": {
    "state": {},
    "version_major": 2,
    "version_minor": 0
   }
  }
 },
 "nbformat": 4,
 "nbformat_minor": 5
}
