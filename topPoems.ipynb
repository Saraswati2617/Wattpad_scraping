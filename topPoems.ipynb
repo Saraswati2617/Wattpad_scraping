{
 "cells": [
  {
   "cell_type": "code",
   "execution_count": 1,
   "id": "046d35c0-a069-4cb6-912f-d77730c58a4f",
   "metadata": {},
   "outputs": [
    {
     "name": "stdin",
     "output_type": "stream",
     "text": [
      "⏳ Please log in manually in the browser, then press ENTER here to continue... \n"
     ]
    },
    {
     "name": "stdout",
     "output_type": "stream",
     "text": [
      "🔍 Scraping: https://www.wattpad.com/story/369214609-%F0%9D%90%88%F0%9D%90%A7%F0%9D%90%9A%F0%9D%90%9A%F0%9D%90%A6-%F0%9D%90%84-%F0%9D%90%88%F0%9D%90%AC%F0%9D%90%A1%F0%9D%90%AA\n",
      "🔍 Scraping: https://www.wattpad.com/story/365762138-our-paradise-of-love\n",
      "🔍 Scraping: https://www.wattpad.com/story/358400661-jupiter-harry-james-potter\n",
      "✅ Done! Data saved to 'Wattpad_Poems_Stories.xlsx'\n"
     ]
    }
   ],
   "source": [
    "from selenium import webdriver\n",
    "from selenium.webdriver.common.by import By\n",
    "from selenium.webdriver.support.ui import WebDriverWait\n",
    "from selenium.webdriver.support import expected_conditions as EC\n",
    "import pandas as pd\n",
    "import time\n",
    "\n",
    "# Setup browser\n",
    "options = webdriver.ChromeOptions()\n",
    "options.add_experimental_option(\"detach\", True)\n",
    "driver = webdriver.Chrome(options=options)\n",
    "\n",
    "# Step 1: Manual login\n",
    "driver.get(\"https://www.wattpad.com/login\")\n",
    "input(\"⏳ Please log in manually in the browser, then press ENTER here to continue...\")\n",
    "\n",
    "# Step 2: Poetry story URLs\n",
    "story_urls = [\n",
    "    \"https://www.wattpad.com/story/369214609-%F0%9D%90%88%F0%9D%90%A7%F0%9D%90%9A%F0%9D%90%9A%F0%9D%90%A6-%F0%9D%90%84-%F0%9D%90%88%F0%9D%90%AC%F0%9D%90%A1%F0%9D%90%AA\",\n",
    "    \"https://www.wattpad.com/story/365762138-our-paradise-of-love\",\n",
    "    \"https://www.wattpad.com/story/358400661-jupiter-harry-james-potter\"\n",
    "]\n",
    "\n",
    "# Step 3: Data collection\n",
    "story_data = []\n",
    "\n",
    "for url in story_urls:\n",
    "    driver.get(url)\n",
    "    print(f\"🔍 Scraping: {url}\")\n",
    "    time.sleep(3)\n",
    "\n",
    "    try:\n",
    "        WebDriverWait(driver, 10).until(EC.presence_of_element_located((By.CSS_SELECTOR, \"div.gF-N5\")))\n",
    "        title = driver.find_element(By.CSS_SELECTOR, \"div.gF-N5\").text\n",
    "\n",
    "        # Reads & Votes\n",
    "        stats = driver.find_elements(By.CSS_SELECTOR, \"span[data-testid='stats-value']\")\n",
    "        reads = stats[0].text if len(stats) > 0 else \"N/A\"\n",
    "        votes = stats[1].text if len(stats) > 1 else \"N/A\"\n",
    "\n",
    "        # Published dates\n",
    "        dates = driver.find_elements(By.CSS_SELECTOR, \"div.bSGSB\")\n",
    "        first_publish = dates[0].text if len(dates) > 0 else \"N/A\"\n",
    "        last_publish = dates[1].text if len(dates) > 1 else \"N/A\"\n",
    "\n",
    "        story_data.append({\n",
    "            \"Title\": title,\n",
    "            \"Genre\": \"Poetry\",\n",
    "            \"Number of Reads\": reads,\n",
    "            \"Number of Votes\": votes,\n",
    "            \"First Published Date\": first_publish,\n",
    "            \"Last Published Date\": last_publish,\n",
    "            \"Story URL\": url\n",
    "        })\n",
    "\n",
    "    except Exception as e:\n",
    "        print(f\"❌ Error scraping {url}: {e}\")\n",
    "\n",
    "# Step 4: Save to Excel\n",
    "df = pd.DataFrame(story_data)\n",
    "df.to_excel(\"Wattpad_Poems_Stories.xlsx\", index=False)\n",
    "print(\"✅ Done! Data saved to 'Wattpad_Poems_Stories.xlsx'\")\n"
   ]
  },
  {
   "cell_type": "code",
   "execution_count": null,
   "id": "679a0a14-94bb-4f2e-8da2-5984b0b551c7",
   "metadata": {},
   "outputs": [],
   "source": []
  }
 ],
 "metadata": {
  "kernelspec": {
   "display_name": "Python 3 (ipykernel)",
   "language": "python",
   "name": "python3"
  },
  "language_info": {
   "codemirror_mode": {
    "name": "ipython",
    "version": 3
   },
   "file_extension": ".py",
   "mimetype": "text/x-python",
   "name": "python",
   "nbconvert_exporter": "python",
   "pygments_lexer": "ipython3",
   "version": "3.13.5"
  },
  "widgets": {
   "application/vnd.jupyter.widget-state+json": {
    "state": {},
    "version_major": 2,
    "version_minor": 0
   }
  }
 },
 "nbformat": 4,
 "nbformat_minor": 5
}
