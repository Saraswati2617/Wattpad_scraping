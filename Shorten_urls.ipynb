{
 "cells": [
  {
   "cell_type": "code",
   "execution_count": 7,
   "id": "7f4772d8-153a-4b97-a7cb-f4c6c95f1ad2",
   "metadata": {},
   "outputs": [
    {
     "name": "stdout",
     "output_type": "stream",
     "text": [
      "✅ Excel file 'shortened_urls.xlsx' created successfully.\n"
     ]
    }
   ],
   "source": [
    "import requests\n",
    "import pandas as pd\n",
    "\n",
    "# List of URLs to shorten\n",
    "urls = [\n",
    "\" https://www.wattpad.com/story/389107907-one-night-one-lie-english-version\",\n",
    "\" https://www.wattpad.com/story/181911701-one-rebellious-night-del-fierro-series-1-to-be\",\n",
    "\" https://www.wattpad.com/story/342446389-heartless-english-version-teaser\",\n",
    "\" https://www.wattpad.com/story/351187595-mistress-of-the-high-seas\",\n",
    "\" https://www.wattpad.com/story/379481329-unbridled-1-crossing-the-line\",\n",
    "\" https://www.wattpad.com/story/377137700-possessive-21-knight-velasquez\",\n",
    "\" https://www.wattpad.com/story/3942069-he%27s-into-her-season-2\",\n",
    "\" https://www.wattpad.com/story/1965721-he%27s-into-her-season-1\",\n",
    "\" https://www.wattpad.com/story/226644363-love-without-boundaries\",\n",
    "\" https://www.wattpad.com/story/373494949-i-woke-up-today\",\n",
    "\" https://www.wattpad.com/story/320863652-letters-of-past-summer-nights-old-summer-trilogy-2\",\n",
    "\" https://www.wattpad.com/story/320864764-after-summer-64-old-summer-trilogy-3\",\n",
    "\" https://www.wattpad.com/story/23554924-destined-published-with-tv-movie-adaptation\",\n",
    "\" https://www.wattpad.com/story/51892360-dear-tadhana-published\",\n",
    "\" https://www.wattpad.com/story/5158214-the-four-bad-boys-and-me-published-with-movie\",\n",
    "\" https://www.wattpad.com/story/386905871-i-linger-on-your-skin\",\n",
    "\" https://www.wattpad.com/story/220708557-cheer-up-captain\",\n",
    "\" https://www.wattpad.com/story/353505967-game-over\",\n",
    "\" https://www.wattpad.com/story/346154453-taste-of-blood-book-ii\",\n",
    "\" https://www.wattpad.com/story/321925654-tarnished-crown\",\n",
    "\" https://www.wattpad.com/story/251829513-never-classic\",\n",
    "\" https://www.wattpad.com/story/376927247-tugma-one-shot\",\n",
    "\" https://www.wattpad.com/story/336446323-arts-and-music-at-midnight-endmira-geo\",\n",
    "\" https://www.wattpad.com/story/304890096-deleted-an-epistolary-story\",\n",
    "\" https://www.wattpad.com/story/377063961-nemetio-spiran-the-hidden-scrolls\",\n",
    "\" https://www.wattpad.com/story/393026307-not-my-pic\",\n",
    "\" https://www.wattpad.com/story/389681093-send-a-pic\",\n",
    "\" https://www.wattpad.com/story/124167579-he-doesn%27t-share\",\n",
    "\" https://www.wattpad.com/story/112388610-the-god-has-fallen\",\n",
    "\" https://www.wattpad.com/story/390784229-grovel-at-my-feet\"\n",
    "\n",
    "]\n",
    "\n",
    "def shorten_url(url):\n",
    "    try:\n",
    "        response = requests.get(\"http://tinyurl.com/api-create.php\", params={\"url\": url})\n",
    "        return response.text if response.status_code == 200 else \"Error\"\n",
    "    except:\n",
    "        return \"Error\"\n",
    "\n",
    "# Create DataFrame with shortened URLs\n",
    "data = [(url, shorten_url(url)) for url in urls]\n",
    "df = pd.DataFrame(data, columns=[\"Original URL\", \"Shortened URL\"])\n",
    "\n",
    "# Save to Excel\n",
    "df.to_excel(\"shortened_urls.xlsx\", index=False)\n",
    "print(\"✅ Excel file 'shortened_urls.xlsx' created successfully.\")\n"
   ]
  },
  {
   "cell_type": "code",
   "execution_count": 12,
   "id": "8265a477-e230-45c0-a2ef-5815464e71b2",
   "metadata": {},
   "outputs": [
    {
     "name": "stdout",
     "output_type": "stream",
     "text": [
      "Excel file 'Converted_Reads_From_Image.xlsx' created successfully.\n"
     ]
    }
   ],
   "source": [
    "import pandas as pd\n",
    "\n",
    "# Step 1: Manually extracted list from the image\n",
    "reads = [\n",
    "\"3.8K\", \"660K\", \"4.3K\", \"2.8K\", \"91.9K\", \"14.7K\", \"6.9M\", \"8.8M\", \"1.6M\", \"6.9K\", \"115K\", \"79.3K\", \"59.6K\", \"51.8K\", \"157K\", \"15.8K\", \"23.5K\", \"89K\", \"8.6K\", \"18.1K\", \"76.8K\", \"299\", \"1.8K\", \"5.6K\", \"2.7K\", \"14.2K\", \"30.1K\", \"381K\", \"196K\", \"13K\"\n",
    "]\n",
    "\n",
    "# Step 2: Function to convert 'M' and 'K' values into integers\n",
    "def convert_to_number(read):\n",
    "    read = str(read).strip().upper()\n",
    "    if read.endswith('M'):\n",
    "        return int(float(read[:-1]) * 1_000_000)\n",
    "    elif read.endswith('K'):\n",
    "        return int(float(read[:-1]) * 1_000)\n",
    "    else:\n",
    "        try:\n",
    "            return int(read)\n",
    "        except ValueError:\n",
    "            return None\n",
    "\n",
    "# Step 3: Create DataFrame\n",
    "df = pd.DataFrame({\n",
    "    \"Original Reads\": reads,\n",
    "    \"Numeric Reads\": [convert_to_number(r) for r in reads]\n",
    "})\n",
    "\n",
    "# Step 4: Save to Excel\n",
    "df.to_excel(\"Converted_MKnumbers.xlsx\", index=False)\n",
    "print(\"Excel file 'Converted_Reads_From_Image.xlsx' created successfully.\")\n"
   ]
  },
  {
   "cell_type": "code",
   "execution_count": null,
   "id": "0e5670a8-8ea4-4c9a-a287-27d3b81541b1",
   "metadata": {},
   "outputs": [],
   "source": []
  }
 ],
 "metadata": {
  "kernelspec": {
   "display_name": "Python 3 (ipykernel)",
   "language": "python",
   "name": "python3"
  },
  "language_info": {
   "codemirror_mode": {
    "name": "ipython",
    "version": 3
   },
   "file_extension": ".py",
   "mimetype": "text/x-python",
   "name": "python",
   "nbconvert_exporter": "python",
   "pygments_lexer": "ipython3",
   "version": "3.13.5"
  },
  "widgets": {
   "application/vnd.jupyter.widget-state+json": {
    "state": {},
    "version_major": 2,
    "version_minor": 0
   }
  }
 },
 "nbformat": 4,
 "nbformat_minor": 5
}
