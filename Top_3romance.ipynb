{
 "cells": [
  {
   "cell_type": "code",
   "execution_count": 1,
   "id": "20b89918-0533-438d-866e-743aec26022b",
   "metadata": {},
   "outputs": [
    {
     "name": "stdin",
     "output_type": "stream",
     "text": [
      "⏳ Please log in manually in the browser, then press ENTER here to continue... \n"
     ]
    },
    {
     "name": "stdout",
     "output_type": "stream",
     "text": [
      "🔍 Scraping: https://www.wattpad.com/story/276321551-%F0%9D%90%86%F0%9D%90%9E%F0%9D%90%AD%F0%9D%90%9A%F0%9D%90%B0%F0%9D%90%9A%F0%9D%90%B2-%F0%9D%9F%8F%F0%9D%9F%96%2B\n",
      "🔍 Scraping: https://www.wattpad.com/story/347718219-costantino-a-mafia-romance-complete\n",
      "🔍 Scraping: https://www.wattpad.com/story/363608857-shivanya-her-rana-sa%27s-obsession-18%2B\n",
      "✅ Done! Data saved to 'Wattpad_Romance_Stories.xlsx'\n"
     ]
    }
   ],
   "source": [
    "from selenium import webdriver\n",
    "from selenium.webdriver.common.by import By\n",
    "from selenium.webdriver.support.ui import WebDriverWait\n",
    "from selenium.webdriver.support import expected_conditions as EC\n",
    "import pandas as pd\n",
    "import time\n",
    "\n",
    "# Setup browser\n",
    "options = webdriver.ChromeOptions()\n",
    "options.add_experimental_option(\"detach\", True)\n",
    "driver = webdriver.Chrome(options=options)\n",
    "\n",
    "# Step 1: Manual login\n",
    "driver.get(\"https://www.wattpad.com/login\")\n",
    "input(\"⏳ Please log in manually in the browser, then press ENTER here to continue...\")\n",
    "\n",
    "# Step 2: Romance story URLs\n",
    "story_urls = [\n",
    "    \"https://www.wattpad.com/story/276321551-%F0%9D%90%86%F0%9D%90%9E%F0%9D%90%AD%F0%9D%90%9A%F0%9D%90%B0%F0%9D%90%9A%F0%9D%90%B2-%F0%9D%9F%8F%F0%9D%9F%96%2B\",\n",
    "    \"https://www.wattpad.com/story/347718219-costantino-a-mafia-romance-complete\",\n",
    "    \"https://www.wattpad.com/story/363608857-shivanya-her-rana-sa%27s-obsession-18%2B\"\n",
    "]\n",
    "\n",
    "# Step 3: Data collection\n",
    "story_data = []\n",
    "\n",
    "for url in story_urls:\n",
    "    driver.get(url)\n",
    "    print(f\"🔍 Scraping: {url}\")\n",
    "    time.sleep(3)  # Allow page to load\n",
    "\n",
    "    try:\n",
    "        # Title\n",
    "        WebDriverWait(driver, 10).until(EC.presence_of_element_located((By.CSS_SELECTOR, \"div.gF-N5\")))\n",
    "        title = driver.find_element(By.CSS_SELECTOR, \"div.gF-N5\").text\n",
    "\n",
    "        # Reads & Votes\n",
    "        stats = driver.find_elements(By.CSS_SELECTOR, \"span[data-testid='stats-value']\")\n",
    "        reads = stats[0].text if len(stats) > 0 else \"N/A\"\n",
    "        votes = stats[1].text if len(stats) > 1 else \"N/A\"\n",
    "\n",
    "        # Published dates\n",
    "        dates = driver.find_elements(By.CSS_SELECTOR, \"div.bSGSB\")\n",
    "        first_publish = dates[0].text if len(dates) > 0 else \"N/A\"\n",
    "        last_publish = dates[1].text if len(dates) > 1 else \"N/A\"\n",
    "\n",
    "        # Append row\n",
    "        story_data.append({\n",
    "            \"Title\": title,\n",
    "            \"Genre\": \"Romance\",\n",
    "            \"Number of Reads\": reads,\n",
    "            \"Number of Votes\": votes,\n",
    "            \"First Published Date\": first_publish,\n",
    "            \"Last Published Date\": last_publish,\n",
    "            \"Story URL\": url\n",
    "        })\n",
    "\n",
    "    except Exception as e:\n",
    "        print(f\"❌ Error scraping {url}: {e}\")\n",
    "\n",
    "# Step 4: Save to Excel\n",
    "df = pd.DataFrame(story_data)\n",
    "df.to_excel(\"Wattpad_Romance_Stories.xlsx\", index=False)\n",
    "print(\"✅ Done! Data saved to 'Wattpad_Romance_Stories.xlsx'\")\n"
   ]
  },
  {
   "cell_type": "code",
   "execution_count": null,
   "id": "46ee0afd-102f-4132-929e-6c7c58dd420c",
   "metadata": {},
   "outputs": [],
   "source": []
  }
 ],
 "metadata": {
  "kernelspec": {
   "display_name": "Python 3 (ipykernel)",
   "language": "python",
   "name": "python3"
  },
  "language_info": {
   "codemirror_mode": {
    "name": "ipython",
    "version": 3
   },
   "file_extension": ".py",
   "mimetype": "text/x-python",
   "name": "python",
   "nbconvert_exporter": "python",
   "pygments_lexer": "ipython3",
   "version": "3.13.5"
  },
  "widgets": {
   "application/vnd.jupyter.widget-state+json": {
    "state": {},
    "version_major": 2,
    "version_minor": 0
   }
  }
 },
 "nbformat": 4,
 "nbformat_minor": 5
}
