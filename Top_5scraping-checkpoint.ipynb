{
 "cells": [
  {
   "cell_type": "code",
   "execution_count": 2,
   "id": "98a1fc79-acc4-4a4f-94de-d0209d5f012c",
   "metadata": {},
   "outputs": [
    {
     "name": "stdin",
     "output_type": "stream",
     "text": [
      "⏳ Please log in manually in the Chrome window. After logging in, press ENTER here to continue... \n"
     ]
    },
    {
     "name": "stdout",
     "output_type": "stream",
     "text": [
      "Scraping: https://www.wattpad.com/user/jonaxx\n",
      "Scraping: https://www.wattpad.com/user/CeCeLib\n",
      "Scraping: https://www.wattpad.com/user/maxinejiji\n",
      "Scraping: https://www.wattpad.com/user/blue_maiden\n",
      "Scraping: https://www.wattpad.com/user/beeyotch\n",
      "✅ Scraping completed. Data saved to 'Wattpad_Top_5_Authors.xlsx'\n"
     ]
    }
   ],
   "source": [
    "from selenium import webdriver\n",
    "from selenium.webdriver.common.by import By\n",
    "from selenium.webdriver.support.ui import WebDriverWait\n",
    "from selenium.webdriver.support import expected_conditions as EC\n",
    "import time\n",
    "import pandas as pd\n",
    "\n",
    "# Setup Chrome with manual login\n",
    "options = webdriver.ChromeOptions()\n",
    "options.add_experimental_option(\"detach\", True)  # Keeps browser open\n",
    "driver = webdriver.Chrome(options=options)\n",
    "\n",
    "# Step 1: Login manually\n",
    "driver.get(\"https://www.wattpad.com/login\")\n",
    "input(\"⏳ Please log in manually in the Chrome window. After logging in, press ENTER here to continue...\")\n",
    "\n",
    "# Step 2: Author URLs to scrape\n",
    "author_urls = [\n",
    "    \"https://www.wattpad.com/user/jonaxx\",\n",
    "    \"https://www.wattpad.com/user/CeCeLib\",\n",
    "    \"https://www.wattpad.com/user/maxinejiji\",\n",
    "    \"https://www.wattpad.com/user/blue_maiden\",\n",
    "    \"https://www.wattpad.com/user/beeyotch\"\n",
    "]\n",
    "\n",
    "# Step 3: Data storage\n",
    "data = []\n",
    "\n",
    "# Step 4: Scraping loop\n",
    "for url in author_urls:\n",
    "    driver.get(url)\n",
    "    print(f\"Scraping: {url}\")\n",
    "    \n",
    "    try:\n",
    "        # Wait for profile to load\n",
    "        WebDriverWait(driver, 10).until(\n",
    "            EC.presence_of_element_located((By.CSS_SELECTOR, \"h1.profile-name\"))\n",
    "        )\n",
    "\n",
    "        # Extract data\n",
    "        name = driver.find_element(By.CSS_SELECTOR, \"h1.profile-name\").text\n",
    "        handle = driver.find_element(By.ID, \"alias\").text\n",
    "        works = driver.find_element(By.CSS_SELECTOR, \"div[data-id='profile-works']\").text\n",
    "        lists = driver.find_element(By.CSS_SELECTOR, \"div[data-id='profile-lists']\").text\n",
    "        followers = driver.find_element(By.CSS_SELECTOR, \"div.on-followers\").text\n",
    "        bio_section = driver.find_element(By.CSS_SELECTOR, \"section#profile-about\").text\n",
    "\n",
    "        data.append({\n",
    "            \"Name\": name,\n",
    "            \"Handle\": handle,\n",
    "            \"Works\": works,\n",
    "            \"Reading Lists\": lists,\n",
    "            \"Followers\": followers,\n",
    "            \"Bio\": bio_section,\n",
    "            \"Profile URL\": url\n",
    "        })\n",
    "\n",
    "    except Exception as e:\n",
    "        print(f\"❌ Error on {url}: {str(e)}\")\n",
    "        continue\n",
    "\n",
    "# Step 5: Save to Excel\n",
    "df = pd.DataFrame(data)\n",
    "df.to_excel(\"Wattpad_Top_5_Authors.xlsx\", index=False)\n",
    "print(\"✅ Scraping completed. Data saved to 'Wattpad_Top_5_Authors.xlsx'\")\n"
   ]
  },
  {
   "cell_type": "code",
   "execution_count": null,
   "id": "e0f54d9f-73d2-43e1-a8f0-f2a1ec5e6cc4",
   "metadata": {},
   "outputs": [],
   "source": []
  }
 ],
 "metadata": {
  "kernelspec": {
   "display_name": "Python 3 (ipykernel)",
   "language": "python",
   "name": "python3"
  },
  "language_info": {
   "codemirror_mode": {
    "name": "ipython",
    "version": 3
   },
   "file_extension": ".py",
   "mimetype": "text/x-python",
   "name": "python",
   "nbconvert_exporter": "python",
   "pygments_lexer": "ipython3",
   "version": "3.13.5"
  },
  "widgets": {
   "application/vnd.jupyter.widget-state+json": {
    "state": {},
    "version_major": 2,
    "version_minor": 0
   }
  }
 },
 "nbformat": 4,
 "nbformat_minor": 5
}
