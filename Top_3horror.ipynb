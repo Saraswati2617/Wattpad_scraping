{
 "cells": [
  {
   "cell_type": "code",
   "execution_count": 1,
   "id": "762f9bbe-cb95-48d9-a304-9f3f085ee5d4",
   "metadata": {},
   "outputs": [
    {
     "name": "stdin",
     "output_type": "stream",
     "text": [
      "⏳ Please log in manually in the browser, then press ENTER here to continue... \n"
     ]
    },
    {
     "name": "stdout",
     "output_type": "stream",
     "text": [
      "🔍 Scraping: https://www.wattpad.com/story/73997-the-cellar\n",
      "🔍 Scraping: https://www.wattpad.com/story/82040526-a-different-virus-heartfire\n",
      "🔍 Scraping: https://www.wattpad.com/story/20550768-family-comes-first\n",
      "✅ Done! Data saved to 'Wattpad_Horror_Stories.xlsx'\n"
     ]
    }
   ],
   "source": [
    "from selenium import webdriver\n",
    "from selenium.webdriver.common.by import By\n",
    "from selenium.webdriver.support.ui import WebDriverWait\n",
    "from selenium.webdriver.support import expected_conditions as EC\n",
    "import pandas as pd\n",
    "import time\n",
    "\n",
    "# Setup browser\n",
    "options = webdriver.ChromeOptions()\n",
    "options.add_experimental_option(\"detach\", True)\n",
    "driver = webdriver.Chrome(options=options)\n",
    "\n",
    "# Step 1: Manual login\n",
    "driver.get(\"https://www.wattpad.com/login\")\n",
    "input(\"⏳ Please log in manually in the browser, then press ENTER here to continue...\")\n",
    "\n",
    "# Step 2: Horror story URLs\n",
    "story_urls = [\n",
    "    \"https://www.wattpad.com/story/73997-the-cellar\",\n",
    "    \"https://www.wattpad.com/story/82040526-a-different-virus-heartfire\",\n",
    "    \"https://www.wattpad.com/story/20550768-family-comes-first\"\n",
    "]\n",
    "\n",
    "# Step 3: Data collection\n",
    "story_data = []\n",
    "\n",
    "for url in story_urls:\n",
    "    driver.get(url)\n",
    "    print(f\"🔍 Scraping: {url}\")\n",
    "    time.sleep(3)  # Allow page to load\n",
    "\n",
    "    try:\n",
    "        # Title\n",
    "        WebDriverWait(driver, 10).until(EC.presence_of_element_located((By.CSS_SELECTOR, \"div.gF-N5\")))\n",
    "        title = driver.find_element(By.CSS_SELECTOR, \"div.gF-N5\").text\n",
    "\n",
    "        # Reads & Votes\n",
    "        stats = driver.find_elements(By.CSS_SELECTOR, \"span[data-testid='stats-value']\")\n",
    "        reads = stats[0].text if len(stats) > 0 else \"N/A\"\n",
    "        votes = stats[1].text if len(stats) > 1 else \"N/A\"\n",
    "\n",
    "        # Published dates\n",
    "        dates = driver.find_elements(By.CSS_SELECTOR, \"div.bSGSB\")\n",
    "        first_publish = dates[0].text if len(dates) > 0 else \"N/A\"\n",
    "        last_publish = dates[1].text if len(dates) > 1 else \"N/A\"\n",
    "\n",
    "        # Append row\n",
    "        story_data.append({\n",
    "            \"Title\": title,\n",
    "            \"Genre\": \"Horror\",\n",
    "            \"Number of Reads\": reads,\n",
    "            \"Number of Votes\": votes,\n",
    "            \"First Published Date\": first_publish,\n",
    "            \"Last Published Date\": last_publish,\n",
    "            \"Story URL\": url\n",
    "        })\n",
    "\n",
    "    except Exception as e:\n",
    "        print(f\"❌ Error scraping {url}: {e}\")\n",
    "\n",
    "# Step 4: Save to Excel\n",
    "df = pd.DataFrame(story_data)\n",
    "df.to_excel(\"Wattpad_Horror_Stories.xlsx\", index=False)\n",
    "print(\"✅ Done! Data saved to 'Wattpad_Horror_Stories.xlsx'\")\n"
   ]
  },
  {
   "cell_type": "code",
   "execution_count": null,
   "id": "128d2b44-1b3a-4646-939b-b43d97cbc335",
   "metadata": {},
   "outputs": [],
   "source": []
  }
 ],
 "metadata": {
  "kernelspec": {
   "display_name": "Python 3 (ipykernel)",
   "language": "python",
   "name": "python3"
  },
  "language_info": {
   "codemirror_mode": {
    "name": "ipython",
    "version": 3
   },
   "file_extension": ".py",
   "mimetype": "text/x-python",
   "name": "python",
   "nbconvert_exporter": "python",
   "pygments_lexer": "ipython3",
   "version": "3.13.5"
  }
 },
 "nbformat": 4,
 "nbformat_minor": 5
}
